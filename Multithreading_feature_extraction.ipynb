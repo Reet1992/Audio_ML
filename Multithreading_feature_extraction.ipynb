{
 "cells": [
  {
   "cell_type": "code",
   "execution_count": 2,
   "metadata": {
    "collapsed": true
   },
   "outputs": [],
   "source": [
    "#### Get Feature Vector #####\n",
    "\n",
    "import librosa\n",
    "from librosa import feature\n",
    "import numpy as np\n",
    "fn_list_i = [\n",
    " feature.chroma_stft,\n",
    " feature.spectral_centroid,\n",
    " feature.spectral_bandwidth,\n",
    " feature.spectral_rolloff\n",
    "]\n",
    " \n",
    "fn_list_ii = [\n",
    " feature.rmse,\n",
    " feature.zero_crossing_rate\n",
    "]\n",
    "def get_feature_vector(y,sr): \n",
    "    feat_vect_i = [ np.mean(funct(y,sr)) for funct in fn_list_i]\n",
    "    feat_vect_ii = [ np.mean(funct(y)) for funct in fn_list_ii] \n",
    "    feature_vector = feat_vect_i + feat_vect_ii \n",
    "    return feature_vector"
   ]
  },
  {
   "cell_type": "code",
   "execution_count": 3,
   "metadata": {},
   "outputs": [
    {
     "name": "stdout",
     "output_type": "stream",
     "text": [
      "ID of process running main program: 4472\n",
      "Main thread name: MainThreadTask 1 assigned to thread: t1Task 2 assigned to thread: t2\n",
      "\n",
      "\n",
      "ID of process running task 2: 4472ID of process running task 1: 4472\n",
      "\n"
     ]
    },
    {
     "name": "stderr",
     "output_type": "stream",
     "text": [
      "C:\\Users\\Ted\\Anaconda3\\lib\\site-packages\\librosa\\core\\pitch.py:145: UserWarning: Trying to estimate tuning from empty frequency set.\n",
      "  warnings.warn('Trying to estimate tuning from empty frequency set.')\n"
     ]
    },
    {
     "name": "stdout",
     "output_type": "stream",
     "text": [
      "(85, 6)\n",
      "(125, 6)\n"
     ]
    }
   ],
   "source": [
    "#### MULTITHREADING technique for Feature Extraction from Audio Files concurrently and save them into Different output folder\n",
    "\n",
    "import IPython.display as ipd\n",
    "import librosa\n",
    "import numpy as np\n",
    "import pandas as pd\n",
    "import matplotlib.pyplot as plt\n",
    "from scipy.io import wavfile as wav\n",
    "from sklearn import metrics \n",
    "from sklearn.preprocessing import LabelEncoder\n",
    "from sklearn.model_selection import train_test_split\n",
    "import threading \n",
    "import os \n",
    "from glob import glob\n",
    "\n",
    "def task1():\n",
    "    print(\"Task 1 assigned to thread: {}\".format(threading.current_thread().name)) \n",
    "    print(\"ID of process running task 1: {}\".format(os.getpid())) \n",
    "    #directories of normal audios\n",
    "    #norm_data_dir = ‘./audio-processing-files/normals/’\n",
    "    norm_data_dir = 'F:/sensez9/Audio_ML/data/cats_dogs/train/cat/'\n",
    "   #'F:/sensez9/Audio_ML/data/cats_dogs/train/cat/'\n",
    "    norm_audio_files = glob(norm_data_dir + '*.wav')\n",
    "    \n",
    "    ### Feature Extraction From Audios ####\n",
    "    \n",
    "    norm_audios_feat = []\n",
    "    for file in norm_audio_files:\n",
    "        y , sr = librosa.load(file,sr=None)\n",
    "        feature_vector = get_feature_vector(y, sr)\n",
    "        norm_audios_feat.append(feature_vector) \n",
    "    \n",
    "    feature_train_cat_df = pd.DataFrame(norm_audios_feat)\n",
    "    print(feature_train_cat_df.shape)\n",
    "    \n",
    "    df1 = [norm_audios_feat]\n",
    "\n",
    "    df1= pd.DataFrame(df1)\n",
    "\n",
    "    df1_arr = df1.values\n",
    "\n",
    "    df1_t = df1_arr.transpose()\n",
    "\n",
    "    train_cat = pd.DataFrame(df1_t)\n",
    "\n",
    "    train_cat['label'] = 'cat'\n",
    "\n",
    "    train_cat.to_csv(r'E:\\sensez9\\output\\train_cat_features.csv')\n",
    "\n",
    "\n",
    "\n",
    "    \n",
    "def task2():\n",
    "    print(\"Task 2 assigned to thread: {}\".format(threading.current_thread().name)) \n",
    "    print(\"ID of process running task 2: {}\".format(os.getpid())) \n",
    "    #directories of normal audios\n",
    "    #norm_data_dir = ‘./audio-processing-files/normals/’\n",
    "    norm_data_dir2 = 'F:/sensez9/Audio_ML/data/cats_dogs/train/dog/'\n",
    "   #'F:/sensez9/Audio_ML/data/cats_dogs/train/cat/'\n",
    "    norm_audio_files2 = glob(norm_data_dir2 + '*.wav')\n",
    "    \n",
    "    norm_audios_feat2 = []\n",
    "    for file in norm_audio_files2:\n",
    "        y , sr = librosa.load(file,sr=None)\n",
    "        feature_vector = get_feature_vector(y, sr)\n",
    "        norm_audios_feat2.append(feature_vector) \n",
    "    \n",
    "    feature_train_dog_df = pd.DataFrame(norm_audios_feat2)\n",
    "    print(feature_train_dog_df.shape)\n",
    "    \n",
    "    df2 = [norm_audios_feat2]\n",
    "\n",
    "    df2= pd.DataFrame(df2)\n",
    "\n",
    "    df2_arr = df2.values\n",
    "\n",
    "    df2_t = df2_arr.transpose()\n",
    "\n",
    "    train_dog = pd.DataFrame(df2_t)\n",
    "\n",
    "    train_dog['label'] = 'dog'\n",
    "\n",
    "    train_dog.to_csv(r'E:\\sensez9\\output\\train_dog_features.csv')\n",
    "\n",
    "    \n",
    "if __name__ == \"__main__\": \n",
    "  \n",
    "    # print ID of current process \n",
    "    print(\"ID of process running main program: {}\".format(os.getpid())) \n",
    "  \n",
    "    # print name of main thread \n",
    "    print(\"Main thread name: {}\".format(threading.current_thread().name)) \n",
    "  \n",
    "    # creating threads \n",
    "    t1 = threading.Thread(target=task1, name='t1') \n",
    "    t2 = threading.Thread(target=task2, name='t2')   \n",
    "  \n",
    "    # starting threads \n",
    "    t1.start() \n",
    "    t2.start() \n",
    "  \n",
    "    # wait until all threads finish \n",
    "    t1.join() \n",
    "    t2.join() \n",
    "\n",
    "#### perform Librosa Code through multithreading process #####\n",
    "\n"
   ]
  },
  {
   "cell_type": "code",
   "execution_count": null,
   "metadata": {
    "collapsed": true
   },
   "outputs": [],
   "source": []
  }
 ],
 "metadata": {
  "kernelspec": {
   "display_name": "Python 3",
   "language": "python",
   "name": "python3"
  },
  "language_info": {
   "codemirror_mode": {
    "name": "ipython",
    "version": 3
   },
   "file_extension": ".py",
   "mimetype": "text/x-python",
   "name": "python",
   "nbconvert_exporter": "python",
   "pygments_lexer": "ipython3",
   "version": "3.6.3"
  }
 },
 "nbformat": 4,
 "nbformat_minor": 2
}
